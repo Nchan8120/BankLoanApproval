{
 "cells": [
  {
   "cell_type": "markdown",
   "id": "259041e6",
   "metadata": {},
   "source": [
    "### Cleaning the Data"
   ]
  },
  {
   "cell_type": "code",
   "execution_count": 1,
   "id": "ff60f69a",
   "metadata": {},
   "outputs": [],
   "source": [
    "import pandas as pd\n",
    "from sklearn.model_selection import train_test_split\n",
    "from sklearn.preprocessing import StandardScaler\n",
    "import numpy as np\n"
   ]
  },
  {
   "cell_type": "code",
   "execution_count": 2,
   "id": "198bfa45",
   "metadata": {},
   "outputs": [],
   "source": [
    "df = pd.read_csv('data/bankloan.csv')"
   ]
  },
  {
   "cell_type": "code",
   "execution_count": 3,
   "id": "a67d04fb",
   "metadata": {},
   "outputs": [],
   "source": [
    "# Drop ID and ZipCode (not useful for prediction)\n",
    "df.drop(['ID', 'ZIP.Code'], axis=1, inplace=True)"
   ]
  },
  {
   "cell_type": "code",
   "execution_count": 4,
   "id": "90638496",
   "metadata": {},
   "outputs": [],
   "source": [
    "# Features and Target\n",
    "X = df.drop('Personal.Loan', axis=1)\n",
    "y = df['Personal.Loan']"
   ]
  },
  {
   "cell_type": "code",
   "execution_count": 5,
   "id": "ef82e626",
   "metadata": {},
   "outputs": [],
   "source": [
    "# Scale numerical features\n",
    "scaler = StandardScaler()\n",
    "X_scaled = scaler.fit_transform(X)"
   ]
  },
  {
   "cell_type": "code",
   "execution_count": 6,
   "id": "386da9bf",
   "metadata": {},
   "outputs": [
    {
     "data": {
      "text/plain": [
       "['scaler.joblib']"
      ]
     },
     "execution_count": 6,
     "metadata": {},
     "output_type": "execute_result"
    }
   ],
   "source": [
    "# Save the fitted scaler - to use for streamlit UI\n",
    "import joblib\n",
    "joblib.dump(scaler, \"scaler.joblib\")"
   ]
  },
  {
   "cell_type": "code",
   "execution_count": 7,
   "id": "41beea57",
   "metadata": {},
   "outputs": [],
   "source": [
    "# Split into train and test\n",
    "X_train, X_test, y_train, y_test = train_test_split(\n",
    "    X_scaled, y, test_size=0.2, random_state=42, stratify=y)"
   ]
  },
  {
   "cell_type": "code",
   "execution_count": 8,
   "id": "580ed719",
   "metadata": {},
   "outputs": [
    {
     "name": "stdout",
     "output_type": "stream",
     "text": [
      "Data is ready.\n",
      "X_train shape: (4000, 11)\n",
      "y_train distribution:\n",
      " Personal.Loan\n",
      "0    0.904\n",
      "1    0.096\n",
      "Name: proportion, dtype: float64\n"
     ]
    }
   ],
   "source": [
    "print(\"Data is ready.\")\n",
    "print(\"X_train shape:\", X_train.shape)\n",
    "print(\"y_train distribution:\\n\", y_train.value_counts(normalize=True))"
   ]
  },
  {
   "cell_type": "markdown",
   "id": "086bf3ca",
   "metadata": {},
   "source": [
    "### Building Model with Keras"
   ]
  },
  {
   "cell_type": "code",
   "execution_count": 9,
   "id": "a0b316a3",
   "metadata": {},
   "outputs": [],
   "source": [
    "import tensorflow as tf\n",
    "from tensorflow.keras.models import Sequential\n",
    "from tensorflow.keras.layers import Dense, Dropout, Input\n",
    "from sklearn.utils.class_weight import compute_class_weight\n",
    "import numpy as np"
   ]
  },
  {
   "cell_type": "code",
   "execution_count": 10,
   "id": "1f4fbe45",
   "metadata": {},
   "outputs": [],
   "source": [
    "# Class weight works only with numpy arrays\n",
    "y_train = y_train.to_numpy()\n"
   ]
  },
  {
   "cell_type": "code",
   "execution_count": 11,
   "id": "0bb78fd6",
   "metadata": {},
   "outputs": [
    {
     "name": "stdout",
     "output_type": "stream",
     "text": [
      "Class weights: {0: 0.5530973451327433, 1: 5.208333333333333}\n"
     ]
    }
   ],
   "source": [
    "# Compute class weights to handle imbalance\n",
    "classes = np.unique(y_train)\n",
    "class_weights = compute_class_weight(class_weight='balanced', classes=classes, y=y_train)\n",
    "\n",
    "# Properly map weights to actual class labels\n",
    "class_weight_dict = dict(zip(classes, class_weights))\n",
    "\n",
    "print(\"Class weights:\", class_weight_dict)"
   ]
  },
  {
   "cell_type": "code",
   "execution_count": 12,
   "id": "8cd00b0c",
   "metadata": {},
   "outputs": [],
   "source": [
    "# Build the model\n",
    "model = Sequential([\n",
    "    Input(shape=(X_train.shape[1],)), \n",
    "    Dense(64, activation='relu'),\n",
    "    Dropout(0.3),\n",
    "    Dense(32, activation='relu'),\n",
    "    Dropout(0.2),\n",
    "    Dense(1, activation='sigmoid')\n",
    "])"
   ]
  },
  {
   "cell_type": "code",
   "execution_count": 13,
   "id": "7122f6d1",
   "metadata": {},
   "outputs": [],
   "source": [
    "# Compile the model\n",
    "model.compile(optimizer='adam',\n",
    "              loss='binary_crossentropy',\n",
    "              metrics=['accuracy', tf.keras.metrics.AUC(name='auc')])"
   ]
  },
  {
   "cell_type": "code",
   "execution_count": 14,
   "id": "3ac95536",
   "metadata": {},
   "outputs": [
    {
     "name": "stdout",
     "output_type": "stream",
     "text": [
      "Epoch 1/20\n"
     ]
    },
    {
     "name": "stderr",
     "output_type": "stream",
     "text": [
      "2025-05-22 20:27:51.531770: W tensorflow/tsl/platform/profile_utils/cpu_utils.cc:128] Failed to get CPU frequency: 0 Hz\n"
     ]
    },
    {
     "name": "stdout",
     "output_type": "stream",
     "text": [
      "100/100 [==============================] - 1s 3ms/step - loss: 0.5372 - accuracy: 0.5766 - auc: 0.8525 - val_loss: 0.3794 - val_accuracy: 0.8788 - val_auc: 0.9544\n",
      "Epoch 2/20\n",
      "100/100 [==============================] - 0s 1ms/step - loss: 0.3248 - accuracy: 0.8712 - auc: 0.9450 - val_loss: 0.2425 - val_accuracy: 0.9087 - val_auc: 0.9664\n",
      "Epoch 3/20\n",
      "100/100 [==============================] - 0s 1ms/step - loss: 0.2595 - accuracy: 0.9025 - auc: 0.9612 - val_loss: 0.2044 - val_accuracy: 0.9175 - val_auc: 0.9717\n",
      "Epoch 4/20\n",
      "100/100 [==============================] - 0s 1ms/step - loss: 0.2271 - accuracy: 0.9137 - auc: 0.9702 - val_loss: 0.1705 - val_accuracy: 0.9212 - val_auc: 0.9766\n",
      "Epoch 5/20\n",
      "100/100 [==============================] - 0s 1ms/step - loss: 0.2074 - accuracy: 0.9200 - auc: 0.9747 - val_loss: 0.1643 - val_accuracy: 0.9287 - val_auc: 0.9784\n",
      "Epoch 6/20\n",
      "100/100 [==============================] - 0s 1ms/step - loss: 0.1906 - accuracy: 0.9287 - auc: 0.9788 - val_loss: 0.1987 - val_accuracy: 0.9125 - val_auc: 0.9774\n",
      "Epoch 7/20\n",
      "100/100 [==============================] - 0s 1ms/step - loss: 0.1851 - accuracy: 0.9241 - auc: 0.9796 - val_loss: 0.1652 - val_accuracy: 0.9275 - val_auc: 0.9791\n",
      "Epoch 8/20\n",
      "100/100 [==============================] - 0s 1ms/step - loss: 0.1772 - accuracy: 0.9312 - auc: 0.9812 - val_loss: 0.1587 - val_accuracy: 0.9312 - val_auc: 0.9805\n",
      "Epoch 9/20\n",
      "100/100 [==============================] - 0s 1ms/step - loss: 0.1809 - accuracy: 0.9312 - auc: 0.9803 - val_loss: 0.1786 - val_accuracy: 0.9312 - val_auc: 0.9808\n",
      "Epoch 10/20\n",
      "100/100 [==============================] - 0s 1ms/step - loss: 0.1644 - accuracy: 0.9319 - auc: 0.9838 - val_loss: 0.1537 - val_accuracy: 0.9438 - val_auc: 0.9824\n",
      "Epoch 11/20\n",
      "100/100 [==============================] - 0s 1ms/step - loss: 0.1587 - accuracy: 0.9425 - auc: 0.9850 - val_loss: 0.1457 - val_accuracy: 0.9438 - val_auc: 0.9827\n",
      "Epoch 12/20\n",
      "100/100 [==============================] - 0s 1ms/step - loss: 0.1498 - accuracy: 0.9416 - auc: 0.9864 - val_loss: 0.1447 - val_accuracy: 0.9413 - val_auc: 0.9831\n",
      "Epoch 13/20\n",
      "100/100 [==============================] - 0s 1ms/step - loss: 0.1639 - accuracy: 0.9369 - auc: 0.9838 - val_loss: 0.1611 - val_accuracy: 0.9425 - val_auc: 0.9822\n",
      "Epoch 14/20\n",
      "100/100 [==============================] - 0s 1ms/step - loss: 0.1590 - accuracy: 0.9359 - auc: 0.9845 - val_loss: 0.1661 - val_accuracy: 0.9388 - val_auc: 0.9833\n",
      "Epoch 15/20\n",
      "100/100 [==============================] - 0s 1ms/step - loss: 0.1449 - accuracy: 0.9478 - auc: 0.9867 - val_loss: 0.1502 - val_accuracy: 0.9475 - val_auc: 0.9831\n",
      "Epoch 16/20\n",
      "100/100 [==============================] - 0s 1ms/step - loss: 0.1441 - accuracy: 0.9475 - auc: 0.9871 - val_loss: 0.1360 - val_accuracy: 0.9475 - val_auc: 0.9844\n",
      "Epoch 17/20\n",
      "100/100 [==============================] - 0s 1ms/step - loss: 0.1299 - accuracy: 0.9509 - auc: 0.9898 - val_loss: 0.1393 - val_accuracy: 0.9425 - val_auc: 0.9852\n",
      "Epoch 18/20\n",
      "100/100 [==============================] - 0s 1ms/step - loss: 0.1455 - accuracy: 0.9481 - auc: 0.9864 - val_loss: 0.1249 - val_accuracy: 0.9575 - val_auc: 0.9847\n",
      "Epoch 19/20\n",
      "100/100 [==============================] - 0s 1ms/step - loss: 0.1258 - accuracy: 0.9556 - auc: 0.9905 - val_loss: 0.1275 - val_accuracy: 0.9513 - val_auc: 0.9851\n",
      "Epoch 20/20\n",
      "100/100 [==============================] - 0s 1ms/step - loss: 0.1337 - accuracy: 0.9488 - auc: 0.9889 - val_loss: 0.1351 - val_accuracy: 0.9500 - val_auc: 0.9844\n"
     ]
    }
   ],
   "source": [
    "# Train the model\n",
    "history = model.fit(\n",
    "    X_train, y_train,\n",
    "    epochs=20,\n",
    "    batch_size=32,\n",
    "    validation_split=0.2,\n",
    "    class_weight=class_weight_dict,\n",
    "    verbose=1\n",
    ")"
   ]
  },
  {
   "cell_type": "markdown",
   "id": "cb100ab1",
   "metadata": {},
   "source": [
    "### Evaluating the Model"
   ]
  },
  {
   "cell_type": "code",
   "execution_count": 15,
   "id": "fb7da14a",
   "metadata": {},
   "outputs": [
    {
     "name": "stdout",
     "output_type": "stream",
     "text": [
      "Test Loss: 0.1142\n",
      "Test Accuracy: 0.9590\n",
      "Test AUC: 0.9930\n"
     ]
    }
   ],
   "source": [
    "loss, accuracy, auc = model.evaluate(X_test, y_test.to_numpy(), verbose=0)\n",
    "print(f\"Test Loss: {loss:.4f}\")\n",
    "print(f\"Test Accuracy: {accuracy:.4f}\")\n",
    "print(f\"Test AUC: {auc:.4f}\")\n"
   ]
  },
  {
   "cell_type": "code",
   "execution_count": 16,
   "id": "ed1d4966",
   "metadata": {},
   "outputs": [
    {
     "name": "stdout",
     "output_type": "stream",
     "text": [
      "32/32 [==============================] - 0s 445us/step\n"
     ]
    }
   ],
   "source": [
    "y_pred_prob = model.predict(X_test)\n",
    "y_pred = (y_pred_prob > 0.5).astype(int)\n"
   ]
  },
  {
   "cell_type": "code",
   "execution_count": 17,
   "id": "5ca85232",
   "metadata": {},
   "outputs": [
    {
     "name": "stdout",
     "output_type": "stream",
     "text": [
      "              precision    recall  f1-score   support\n",
      "\n",
      "           0       1.00      0.96      0.98       904\n",
      "           1       0.71      0.98      0.82        96\n",
      "\n",
      "    accuracy                           0.96      1000\n",
      "   macro avg       0.85      0.97      0.90      1000\n",
      "weighted avg       0.97      0.96      0.96      1000\n",
      "\n",
      "[[865  39]\n",
      " [  2  94]]\n"
     ]
    }
   ],
   "source": [
    "from sklearn.metrics import classification_report, confusion_matrix\n",
    "\n",
    "print(classification_report(y_test, y_pred))\n",
    "print(confusion_matrix(y_test, y_pred))\n"
   ]
  },
  {
   "cell_type": "code",
   "execution_count": 18,
   "id": "169902a9",
   "metadata": {},
   "outputs": [
    {
     "data": {
      "image/png": "[encoded data removed]",
      "text/plain": [
       "<Figure size 640x480 with 1 Axes>"
      ]
     },
     "metadata": {},
     "output_type": "display_data"
    },
    {
     "data": {
      "image/png": "[encoded data removed]",
      "text/plain": [
       "<Figure size 640x480 with 1 Axes>"
      ]
     },
     "metadata": {},
     "output_type": "display_data"
    }
   ],
   "source": [
    "import matplotlib.pyplot as plt\n",
    "\n",
    "plt.plot(history.history['accuracy'], label='train acc')\n",
    "plt.plot(history.history['val_accuracy'], label='val acc')\n",
    "plt.legend()\n",
    "plt.show()\n",
    "\n",
    "plt.plot(history.history['loss'], label='train loss')\n",
    "plt.plot(history.history['val_loss'], label='val loss')\n",
    "plt.legend()\n",
    "plt.show()\n"
   ]
  },
  {
   "cell_type": "markdown",
   "id": "873e9648",
   "metadata": {},
   "source": [
    "### Saving Model"
   ]
  },
  {
   "cell_type": "code",
   "execution_count": 19,
   "id": "f87caada",
   "metadata": {},
   "outputs": [],
   "source": [
    "model.save(\"bankloan_model.keras\") "
   ]
  },
  {
   "cell_type": "code",
   "execution_count": null,
   "id": "da73eccc",
   "metadata": {},
   "outputs": [],
   "source": []
  }
 ],
 "metadata": {
  "kernelspec": {
   "display_name": "deeplearning",
   "language": "python",
   "name": "python3"
  },
  "language_info": {
   "codemirror_mode": {
    "name": "ipython",
    "version": 3
   },
   "file_extension": ".py",
   "mimetype": "text/x-python",
   "name": "python",
   "nbconvert_exporter": "python",
   "pygments_lexer": "ipython3",
   "version": "3.11.5"
  }
 },
 "nbformat": 4,
 "nbformat_minor": 5
}
